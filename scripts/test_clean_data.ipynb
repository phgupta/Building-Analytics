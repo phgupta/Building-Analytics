{
 "cells": [
  {
   "cell_type": "markdown",
   "metadata": {},
   "source": [
    "## Test TU_Util()"
   ]
  },
  {
   "cell_type": "code",
   "execution_count": 4,
   "metadata": {
    "scrolled": false
   },
   "outputs": [
    {
     "data": {
      "text/html": [
       "<div>\n",
       "<style>\n",
       "    .dataframe thead tr:only-child th {\n",
       "        text-align: right;\n",
       "    }\n",
       "\n",
       "    .dataframe thead th {\n",
       "        text-align: left;\n",
       "    }\n",
       "\n",
       "    .dataframe tbody tr th {\n",
       "        vertical-align: top;\n",
       "    }\n",
       "</style>\n",
       "<table border=\"1\" class=\"dataframe\">\n",
       "  <thead>\n",
       "    <tr style=\"text-align: right;\">\n",
       "      <th></th>\n",
       "      <th>Data 1</th>\n",
       "    </tr>\n",
       "    <tr>\n",
       "      <th>Timestamp</th>\n",
       "      <th></th>\n",
       "    </tr>\n",
       "  </thead>\n",
       "  <tbody>\n",
       "    <tr>\n",
       "      <th>2017-05-06 14:30:00</th>\n",
       "      <td>30</td>\n",
       "    </tr>\n",
       "    <tr>\n",
       "      <th>2017-05-06 14:40:00</th>\n",
       "      <td>30</td>\n",
       "    </tr>\n",
       "    <tr>\n",
       "      <th>2017-05-06 14:50:00</th>\n",
       "      <td>30</td>\n",
       "    </tr>\n",
       "    <tr>\n",
       "      <th>2017-05-06 15:00:00</th>\n",
       "      <td>30</td>\n",
       "    </tr>\n",
       "    <tr>\n",
       "      <th>2017-05-06 15:10:00</th>\n",
       "      <td>28</td>\n",
       "    </tr>\n",
       "  </tbody>\n",
       "</table>\n",
       "</div>"
      ],
      "text/plain": [
       "                     Data 1\n",
       "Timestamp                  \n",
       "2017-05-06 14:30:00      30\n",
       "2017-05-06 14:40:00      30\n",
       "2017-05-06 14:50:00      30\n",
       "2017-05-06 15:00:00      30\n",
       "2017-05-06 15:10:00      28"
      ]
     },
     "execution_count": 4,
     "metadata": {},
     "output_type": "execute_result"
    }
   ],
   "source": [
    "import matplotlib \n",
    "from matplotlib import style\n",
    "%matplotlib inline\n",
    "style.use('ggplot')\n",
    "\n",
    "# This is to import custom-made modules\n",
    "# This can be removed after making these modules a real library\n",
    "import os, sys\n",
    "lib_path = os.path.abspath(os.path.join('..', 'building-analytics')) # relative path of the source code in Box Folder \n",
    "sys.path.append(lib_path)\n",
    "\n",
    "from TS_Util_Clean_Data import *\n",
    "\n",
    "# inputs\n",
    "fileName = \"data1.csv\" # replace with other files used\n",
    "folder = \"../data/folder4\"\n",
    "\n",
    "## call script\n",
    "\n",
    "# instantiate class\n",
    "TSU = TS_Util()\n",
    "\n",
    "# load data\n",
    "data= TSU.load_TS(fileName, folder)\n",
    "\n",
    "data.tail()"
   ]
  },
  {
   "cell_type": "code",
   "execution_count": null,
   "metadata": {
    "scrolled": true
   },
   "outputs": [],
   "source": [
    "data= TSU.remove_start_NaN(data)\n",
    "data.head()"
   ]
  },
  {
   "cell_type": "code",
   "execution_count": null,
   "metadata": {
    "scrolled": true
   },
   "outputs": [],
   "source": [
    "# clean start-end\n",
    "data= TSU.remove_end_NaN(data)\n",
    "data.tail()"
   ]
  },
  {
   "cell_type": "code",
   "execution_count": null,
   "metadata": {},
   "outputs": [],
   "source": [
    "TSU._find_missing(data).head()"
   ]
  },
  {
   "cell_type": "code",
   "execution_count": null,
   "metadata": {},
   "outputs": [],
   "source": [
    "TSU.display_missing(data, how=\"all\")"
   ]
  },
  {
   "cell_type": "code",
   "execution_count": null,
   "metadata": {},
   "outputs": [],
   "source": [
    "TSU.count_missing(data, output=\"number\")"
   ]
  },
  {
   "cell_type": "code",
   "execution_count": null,
   "metadata": {},
   "outputs": [],
   "source": [
    "TSU.remove_missing(data,how=\"any\").head()"
   ]
  },
  {
   "cell_type": "code",
   "execution_count": null,
   "metadata": {},
   "outputs": [],
   "source": [
    "TSU._find_outOfBound(data, 10, 300).head()"
   ]
  },
  {
   "cell_type": "code",
   "execution_count": null,
   "metadata": {},
   "outputs": [],
   "source": [
    "TSU.display_outOfBound(data, 10, 300)"
   ]
  },
  {
   "cell_type": "code",
   "execution_count": null,
   "metadata": {},
   "outputs": [],
   "source": [
    "TSU.count_outOfBound(data, 10, 300, output=\"number\")"
   ]
  },
  {
   "cell_type": "code",
   "execution_count": null,
   "metadata": {},
   "outputs": [],
   "source": [
    "TSU.remove_outOfBound(data, 10, 350)"
   ]
  },
  {
   "cell_type": "code",
   "execution_count": null,
   "metadata": {
    "scrolled": true
   },
   "outputs": [],
   "source": [
    "TSU.display_outliers(data,method=\"std\",coeff=2, window=10)"
   ]
  },
  {
   "cell_type": "code",
   "execution_count": null,
   "metadata": {},
   "outputs": [],
   "source": [
    "TSU.display_outliers(data,method=\"rstd\",coeff=1, window=10)"
   ]
  },
  {
   "cell_type": "code",
   "execution_count": null,
   "metadata": {},
   "outputs": [],
   "source": [
    "TSU.display_outliers(data,method=\"rmedian\",coeff=1, window=10)"
   ]
  },
  {
   "cell_type": "code",
   "execution_count": null,
   "metadata": {},
   "outputs": [],
   "source": [
    "TSU.display_outliers(data,method=\"iqr\",coeff=1, window=10)"
   ]
  },
  {
   "cell_type": "code",
   "execution_count": null,
   "metadata": {},
   "outputs": [],
   "source": [
    "TSU.display_outliers(data,method=\"qtl\",coeff=1, window=10)"
   ]
  },
  {
   "cell_type": "code",
   "execution_count": null,
   "metadata": {
    "collapsed": true
   },
   "outputs": [],
   "source": []
  },
  {
   "cell_type": "code",
   "execution_count": 13,
   "metadata": {},
   "outputs": [
    {
     "data": {
      "text/html": [
       "<div>\n",
       "<style>\n",
       "    .dataframe thead tr:only-child th {\n",
       "        text-align: right;\n",
       "    }\n",
       "\n",
       "    .dataframe thead th {\n",
       "        text-align: left;\n",
       "    }\n",
       "\n",
       "    .dataframe tbody tr th {\n",
       "        vertical-align: top;\n",
       "    }\n",
       "</style>\n",
       "<table border=\"1\" class=\"dataframe\">\n",
       "  <thead>\n",
       "    <tr style=\"text-align: right;\">\n",
       "      <th></th>\n",
       "      <th>start</th>\n",
       "      <th>end</th>\n",
       "      <th>length_min</th>\n",
       "    </tr>\n",
       "  </thead>\n",
       "  <tbody>\n",
       "    <tr>\n",
       "      <th>0</th>\n",
       "      <td>2017-05-03 12:00:00</td>\n",
       "      <td>2017-05-04 23:00:00</td>\n",
       "      <td>2100.0</td>\n",
       "    </tr>\n",
       "    <tr>\n",
       "      <th>1</th>\n",
       "      <td>2017-05-05 08:00:00</td>\n",
       "      <td>2017-05-06 13:00:00</td>\n",
       "      <td>1740.0</td>\n",
       "    </tr>\n",
       "    <tr>\n",
       "      <th>2</th>\n",
       "      <td>2017-05-06 13:10:00</td>\n",
       "      <td>2017-05-06 15:00:00</td>\n",
       "      <td>110.0</td>\n",
       "    </tr>\n",
       "  </tbody>\n",
       "</table>\n",
       "</div>"
      ],
      "text/plain": [
       "                start                 end  length_min\n",
       "0 2017-05-03 12:00:00 2017-05-04 23:00:00      2100.0\n",
       "1 2017-05-05 08:00:00 2017-05-06 13:00:00      1740.0\n",
       "2 2017-05-06 13:10:00 2017-05-06 15:00:00       110.0"
      ]
     },
     "execution_count": 13,
     "metadata": {},
     "output_type": "execute_result"
    }
   ],
   "source": [
    "var = \"Data 1\"\n",
    "\n",
    "\n",
    "start_event = (data[var].diff(-1)==0) & ~(data[var].shift().diff(-1)==0) \n",
    "start = data[start_event].index.tolist()\n",
    "\n",
    "\n",
    "\n",
    "\n",
    "\n",
    "end_events = ~(data[var].diff(-1)==0) & (data[var].shift().diff(-1)==0) # find NaN end events\n",
    "end = data[end_events].index.tolist() \n",
    "\n",
    "\n",
    "events = pd.DataFrame.from_items([(\"start\",start), (\"end\",end )])\n",
    "        \n",
    "events[\"length_min\"] = (events[\"end\"] - events[\"start\"]).dt.total_seconds()/60 \n",
    "events"
   ]
  },
  {
   "cell_type": "code",
   "execution_count": null,
   "metadata": {},
   "outputs": [],
   "source": [
    "data[data[\"Data 1\"].diff() == 0]"
   ]
  },
  {
   "cell_type": "code",
   "execution_count": 12,
   "metadata": {},
   "outputs": [
    {
     "data": {
      "text/plain": [
       "Timestamp\n",
       "2017-05-03 11:50:00     NaN\n",
       "2017-05-03 12:00:00    10.0\n",
       "2017-05-03 12:10:00     0.0\n",
       "2017-05-03 12:20:00     0.0\n",
       "2017-05-03 12:30:00     0.0\n",
       "2017-05-03 12:40:00     0.0\n",
       "2017-05-03 12:50:00     0.0\n",
       "2017-05-03 13:00:00     0.0\n",
       "2017-05-03 13:10:00     0.0\n",
       "2017-05-03 13:20:00     0.0\n",
       "2017-05-03 13:30:00     0.0\n",
       "2017-05-03 13:40:00     0.0\n",
       "2017-05-03 13:50:00     0.0\n",
       "2017-05-03 14:00:00     0.0\n",
       "2017-05-03 14:10:00     0.0\n",
       "2017-05-03 14:20:00     0.0\n",
       "2017-05-03 14:30:00     0.0\n",
       "2017-05-03 14:40:00     0.0\n",
       "2017-05-03 14:50:00     0.0\n",
       "2017-05-03 15:00:00     0.0\n",
       "2017-05-03 15:10:00     0.0\n",
       "2017-05-03 15:20:00     0.0\n",
       "2017-05-03 15:30:00     0.0\n",
       "2017-05-03 15:40:00     0.0\n",
       "2017-05-03 15:50:00     0.0\n",
       "2017-05-03 16:00:00     0.0\n",
       "2017-05-03 16:10:00     0.0\n",
       "2017-05-03 16:20:00     0.0\n",
       "2017-05-03 16:30:00     0.0\n",
       "2017-05-03 16:40:00     0.0\n",
       "                       ... \n",
       "2017-05-06 10:20:00     0.0\n",
       "2017-05-06 10:30:00     0.0\n",
       "2017-05-06 10:40:00     0.0\n",
       "2017-05-06 10:50:00     0.0\n",
       "2017-05-06 11:00:00     0.0\n",
       "2017-05-06 11:10:00     0.0\n",
       "2017-05-06 11:20:00     0.0\n",
       "2017-05-06 11:30:00     0.0\n",
       "2017-05-06 11:40:00     0.0\n",
       "2017-05-06 11:50:00     0.0\n",
       "2017-05-06 12:00:00     0.0\n",
       "2017-05-06 12:10:00     0.0\n",
       "2017-05-06 12:20:00     0.0\n",
       "2017-05-06 12:30:00     0.0\n",
       "2017-05-06 12:40:00     0.0\n",
       "2017-05-06 12:50:00     0.0\n",
       "2017-05-06 13:00:00     0.0\n",
       "2017-05-06 13:10:00    10.0\n",
       "2017-05-06 13:20:00     0.0\n",
       "2017-05-06 13:30:00     0.0\n",
       "2017-05-06 13:40:00     0.0\n",
       "2017-05-06 13:50:00     0.0\n",
       "2017-05-06 14:00:00     0.0\n",
       "2017-05-06 14:10:00     0.0\n",
       "2017-05-06 14:20:00     0.0\n",
       "2017-05-06 14:30:00     0.0\n",
       "2017-05-06 14:40:00     0.0\n",
       "2017-05-06 14:50:00     0.0\n",
       "2017-05-06 15:00:00     0.0\n",
       "2017-05-06 15:10:00    -2.0\n",
       "Name: Data 1, Length: 453, dtype: float64"
      ]
     },
     "execution_count": 12,
     "metadata": {},
     "output_type": "execute_result"
    }
   ],
   "source": [
    "data[\"Data 1\"].diff()#.diff()"
   ]
  },
  {
   "cell_type": "code",
   "execution_count": null,
   "metadata": {
    "collapsed": true
   },
   "outputs": [],
   "source": []
  }
 ],
 "metadata": {
  "kernelspec": {
   "display_name": "Python [default]",
   "language": "python",
   "name": "python2"
  },
  "language_info": {
   "codemirror_mode": {
    "name": "ipython",
    "version": 2
   },
   "file_extension": ".py",
   "mimetype": "text/x-python",
   "name": "python",
   "nbconvert_exporter": "python",
   "pygments_lexer": "ipython2",
   "version": "2.7.13"
  }
 },
 "nbformat": 4,
 "nbformat_minor": 2
}
